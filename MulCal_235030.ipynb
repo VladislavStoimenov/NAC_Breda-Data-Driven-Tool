{
 "cells": [
  {
   "cell_type": "markdown",
   "metadata": {},
   "source": [
    "Multivariable Calculus Task 4 "
   ]
  },
  {
   "cell_type": "code",
   "execution_count": 8,
   "metadata": {},
   "outputs": [
    {
     "name": "stdout",
     "output_type": "stream",
     "text": [
      "Approximation for h = 0.01: 0.11349655338757092\n",
      "Approximation for h = 0.001: 0.12648722379182686\n",
      "Approximation for h = 0.0001: 0.12778581319761173\n",
      "Approximation for h = 1e-05: 0.12791566719183578\n"
     ]
    }
   ],
   "source": [
    "import math\n",
    "# The function\n",
    "def f(x, y):\n",
    "    return math.sin(x + y) + y * math.cos(x)\n",
    "\n",
    "# Point and direction vector\n",
    "point = (math.pi / 3, math.pi / 6)\n",
    "v = (3/5, 4/5)\n",
    "\n",
    "# Define the directional derivative\n",
    "def directional_derivative_approx(f, point, v, h):\n",
    "    x, y = point\n",
    "    a, b = v\n",
    "    return (f(x + h*a, y + h*b) - f(x, y)) / h\n",
    "\n",
    "# Approaching zero with for loop\n",
    "h_values = [1e-2, 1e-3, 1e-4, 1e-5]\n",
    "\n",
    "for h_value in h_values:\n",
    "    approx_derivative = directional_derivative_approx(f, point, v, h_value)\n",
    "    print(f\"Approximation for h = {h_value}: {approx_derivative}\")"
   ]
  }
 ],
 "metadata": {
  "kernelspec": {
   "display_name": "block_b",
   "language": "python",
   "name": "python3"
  },
  "language_info": {
   "codemirror_mode": {
    "name": "ipython",
    "version": 3
   },
   "file_extension": ".py",
   "mimetype": "text/x-python",
   "name": "python",
   "nbconvert_exporter": "python",
   "pygments_lexer": "ipython3",
   "version": "3.11.5"
  }
 },
 "nbformat": 4,
 "nbformat_minor": 2
}
