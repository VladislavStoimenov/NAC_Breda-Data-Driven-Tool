{
 "cells": [
  {
   "cell_type": "markdown",
   "metadata": {},
   "source": [
    "TRANSPOSE OF THE MATRICES"
   ]
  },
  {
   "cell_type": "code",
   "execution_count": 5,
   "metadata": {},
   "outputs": [
    {
     "name": "stdout",
     "output_type": "stream",
     "text": [
      "[[ 3 -5]\n",
      " [-2  7]]\n",
      "[[ 3 -2]\n",
      " [-5  7]]\n",
      "[[ 2 -5 -8]\n",
      " [-3  6  9]\n",
      " [-4  7  1]]\n"
     ]
    }
   ],
   "source": [
    "import numpy as np \n",
    "matrixA = np.matrix('3,-5;-2,7')\n",
    "matrixB = np.matrix('2, -3, -4;-5, 6, 7;-8, 9, 1')\n",
    "tmatA = np.transpose(matrixA)\n",
    "tmatB = np.transpose(matrixB)\n",
    "print(matrix1)\n",
    "print(tmatA)\n",
    "print(tmatB)"
   ]
  },
  {
   "cell_type": "markdown",
   "metadata": {},
   "source": [
    "ELEMENT-WISE PRODUCT OF A AND B MATRICES - A*B"
   ]
  },
  {
   "cell_type": "code",
   "execution_count": 9,
   "metadata": {},
   "outputs": [
    {
     "name": "stdout",
     "output_type": "stream",
     "text": [
      "[[  6  -6   4]\n",
      " [ 10 -42  28]\n",
      " [ -8  54   8]]\n"
     ]
    }
   ],
   "source": [
    "import numpy as np \n",
    "matrixA = np.matrix('3, 2, -1;-2, 7, 4;1, 6, 8')\n",
    "matrixB = np.matrix('2, -3, -4;-5, -6, 7;-8, 9, 1')\n",
    "element_wise_product = np.multiply(matrixA, matrixB)\n",
    "print(element_wise_product)"
   ]
  },
  {
   "cell_type": "markdown",
   "metadata": {},
   "source": [
    "MATRIX PRODUCT OF A AND B MATRICES - AB"
   ]
  },
  {
   "cell_type": "code",
   "execution_count": 8,
   "metadata": {},
   "outputs": [
    {
     "name": "stdout",
     "output_type": "stream",
     "text": [
      "[[  4 -30   1]\n",
      " [-71   0  61]\n",
      " [-92  33  46]]\n"
     ]
    }
   ],
   "source": [
    "import numpy as np \n",
    "matrixA = np.matrix('3, 2, -1;-2, 7, 4;1, 6, 8')\n",
    "matrixB = np.matrix('2, -3, -4;-5, -6, 7;-8, 9, 1')\n",
    "product_of_matrices = np.matmul(matrixA, matrixB)\n",
    "print(product_of_matrices)"
   ]
  },
  {
   "cell_type": "markdown",
   "metadata": {},
   "source": [
    "ELEMENT-WISE PRODUCT OF B AND A MATRICES - B*A"
   ]
  },
  {
   "cell_type": "code",
   "execution_count": 10,
   "metadata": {},
   "outputs": [
    {
     "name": "stdout",
     "output_type": "stream",
     "text": [
      "[[  6  -6   4]\n",
      " [ 10 -42  28]\n",
      " [ -8  54   8]]\n"
     ]
    }
   ],
   "source": [
    "import numpy as np \n",
    "matrixA = np.matrix('3, 2, -1;-2, 7, 4;1, 6, 8')\n",
    "matrixB = np.matrix('2, -3, -4;-5, -6, 7;-8, 9, 1')\n",
    "element_wise_product = np.multiply(matrixB, matrixA)\n",
    "print(element_wise_product)"
   ]
  },
  {
   "cell_type": "markdown",
   "metadata": {},
   "source": [
    "MATRIX PRODUCT OF B AND A MATRICES - BA"
   ]
  },
  {
   "cell_type": "code",
   "execution_count": 11,
   "metadata": {},
   "outputs": [
    {
     "name": "stdout",
     "output_type": "stream",
     "text": [
      "[[  8 -41 -46]\n",
      " [  4 -10  37]\n",
      " [-41  53  52]]\n"
     ]
    }
   ],
   "source": [
    "import numpy as np \n",
    "matrixA = np.matrix('3, 2, -1;-2, 7, 4;1, 6, 8')\n",
    "matrixB = np.matrix('2, -3, -4;-5, -6, 7;-8, 9, 1')\n",
    "product_of_matrices = np.matmul(matrixB, matrixA)\n",
    "print(product_of_matrices)"
   ]
  },
  {
   "cell_type": "markdown",
   "metadata": {},
   "source": [
    "INVERTION OF MATRICES"
   ]
  },
  {
   "cell_type": "code",
   "execution_count": 14,
   "metadata": {},
   "outputs": [
    {
     "name": "stdout",
     "output_type": "stream",
     "text": [
      "[[ 0.28 -0.08]\n",
      " [ 0.08  0.12]]\n",
      "[[0.25 0.  ]\n",
      " [0.   0.2 ]]\n"
     ]
    }
   ],
   "source": [
    "import numpy as np \n",
    "matrixA = np.matrix('3, 2;-2, 7')\n",
    "matrixB = np.matrix('4, 0;0, 5')\n",
    "inversion_of_matrixA = np.linalg.inv(matrixA)\n",
    "inversion_of_matrixB = np.linalg.inv(matrixB)\n",
    "print(inversion_of_matrixA)\n",
    "print(inversion_of_matrixB)"
   ]
  },
  {
   "cell_type": "markdown",
   "metadata": {},
   "source": [
    "TRANSPOSE OF MATRICES"
   ]
  },
  {
   "cell_type": "code",
   "execution_count": 45,
   "metadata": {},
   "outputs": [
    {
     "name": "stdout",
     "output_type": "stream",
     "text": [
      "False\n",
      "True\n"
     ]
    }
   ],
   "source": [
    "import numpy as np \n",
    "matrixA = np.matrix('3, 2, -1;-2, 7, 4;1, 6, 8')\n",
    "matrixB = np.matrix('-1, 2, 3;5, -4, 9;-7, 8, 6')\n",
    "matrixC = np.matrix('-5, 4, 9;6, 1, 3;7, 2, -8')\n",
    "TranA = np.transpose(matrixA)\n",
    "TranB = np.transpose(matrixB)\n",
    "\n",
    "#Transpose of At == A\n",
    "if (TranA == matrixA).all():\n",
    "    print('True')\n",
    "else:\n",
    "    print('False')\n",
    "\n",
    "#Transpose of (A+B) = At + Bt\n",
    "if (np.transpose(matrixA + matrixB) == TranA + TranB).all():\n",
    "    print('True')\n",
    "else:\n",
    "    print('False')\n"
   ]
  },
  {
   "cell_type": "markdown",
   "metadata": {},
   "source": [
    "MATRICES RELATIONS"
   ]
  },
  {
   "cell_type": "code",
   "execution_count": 44,
   "metadata": {},
   "outputs": [
    {
     "name": "stdout",
     "output_type": "stream",
     "text": [
      "True\n",
      "True\n"
     ]
    }
   ],
   "source": [
    "import numpy as np \n",
    "matrixA = np.matrix('3, 2, -1;-2, 7, 4;1, 6, 8')\n",
    "matrixB = np.matrix('-1, 2, 3;5, -4, 9;-7, 8, 6')\n",
    "matrixC = np.matrix('-5, 4, 9;6, 1, 3;7, 2, -8')\n",
    "#A+B=B+A\n",
    "if (matrixA + matrixB == matrixB+matrixA).all():\n",
    "    print('True')\n",
    "else:\n",
    "    print('False')\n",
    "#A+(B+C)=(A+B)+C\n",
    "if(matrixA + (matrixB + matrixC) == (matrixA + matrixB) + matrixC).all():\n",
    "    print('True')\n",
    "else:\n",
    "    print('False')\n",
    "\n",
    "    "
   ]
  },
  {
   "cell_type": "markdown",
   "metadata": {},
   "source": [
    "MATRIX PRODUCT"
   ]
  },
  {
   "cell_type": "code",
   "execution_count": 53,
   "metadata": {},
   "outputs": [
    {
     "name": "stdout",
     "output_type": "stream",
     "text": [
      "True\n",
      "True\n",
      "True\n",
      "True\n"
     ]
    }
   ],
   "source": [
    "import numpy as np \n",
    "matrixA = np.matrix('3, 2, -1;-2, 7, 4;1, 6, 8')\n",
    "matrixB = np.matrix('-1, 2, 3;5, -4, 9;-7, 8, 6')\n",
    "matrixC = np.matrix('-5, 4, 9;6, 1, 3;7, 2, -8')\n",
    "prAB = np.matmul(matrixA, matrixB)\n",
    "prBA = np.matmul(matrixB, matrixA)\n",
    "prBC = np.matmul(matrixB, matrixC)\n",
    "prAC = np.matmul(matrixA, matrixC)\n",
    "TranA = np.transpose(matrixA)\n",
    "TranB = np.transpose(matrixB)\n",
    "\n",
    "#AB != BA\n",
    "if (prAB!=prBA).all():\n",
    "   print('True')\n",
    "else:\n",
    "    print('False')\n",
    "\n",
    "#A(BC) = (AB)C\n",
    "if (np.matmul(matrixA,prBC) == np.matmul(prAB, matrixC)).all():\n",
    "    print('True')\n",
    "else:\n",
    "    print('False')\n",
    "\n",
    "#A(B+C) = AB + AC\n",
    "if(np.matmul(matrixA,(matrixB+matrixC)) == prAB + prAC).all():\n",
    "    print('True')\n",
    "else:\n",
    "    print('False')\n",
    "\n",
    "#(AB)t = BtAt\n",
    "if(np.transpose(prAB) == np.matmul(TranB,TranA)).all():\n",
    "    print('True')\n",
    "else:\n",
    "    print('False')\n"
   ]
  },
  {
   "cell_type": "markdown",
   "metadata": {},
   "source": [
    "INVERSION"
   ]
  },
  {
   "cell_type": "code",
   "execution_count": 77,
   "metadata": {},
   "outputs": [
    {
     "name": "stdout",
     "output_type": "stream",
     "text": [
      "False\n",
      "False\n",
      "True\n",
      "True\n",
      "True\n"
     ]
    }
   ],
   "source": [
    "import numpy as np \n",
    "matrixA = np.matrix('3, 2, -1;-2, 7, 4;1, 6, 8')\n",
    "matrixB = np.matrix('-1, 2, 3;5, -4, 9;-7, 8, 6')\n",
    "\n",
    "prAB = np.matmul(matrixA, matrixB)\n",
    "invA = np.linalg.inv(matrixA)\n",
    "invB = np.linalg.inv(matrixB)\n",
    "invAB = np.linalg.inv(prAB)\n",
    "TranA = np.transpose(matrixA)\n",
    "TranB = np.transpose(matrixB)\n",
    "a=2\n",
    "b=3\n",
    "\n",
    "# (AB)^-1 = B^-1A^-1\n",
    "if (invAB == np.matmul(invB, invA)).all():\n",
    "    print('True')\n",
    "else:\n",
    "    print('False')\n",
    "\n",
    "#(At)^-1 = (A^-1)t\n",
    "if (np.linalg.inv(TranA) == np.transpose(invA)).all():\n",
    "    print('True')\n",
    "else:\n",
    "    print('False')\n",
    "\n",
    "#(a+b)A = aA +bA\n",
    "if((a+b)*matrixA == a*matrixA + b*matrixA).all():\n",
    "    print('True')\n",
    "else:\n",
    "    print('False')\n",
    "\n",
    "#a(A+B) = aA + aB\n",
    "if(a*(matrixA + matrixB) == a*matrixA + a*matrixB).all():\n",
    "    print('True')\n",
    "else:\n",
    "    print('False')\n",
    "\n",
    "#(aA)^-1 = a^-1A^-1\n",
    "if(np.linalg.inv((a*matrixA)) == invA/a).all():\n",
    "    print('True')\n",
    "else:\n",
    "    print('False')\n"
   ]
  }
 ],
 "metadata": {
  "kernelspec": {
   "display_name": "block_b",
   "language": "python",
   "name": "python3"
  },
  "language_info": {
   "codemirror_mode": {
    "name": "ipython",
    "version": 3
   },
   "file_extension": ".py",
   "mimetype": "text/x-python",
   "name": "python",
   "nbconvert_exporter": "python",
   "pygments_lexer": "ipython3",
   "version": "3.11.5"
  }
 },
 "nbformat": 4,
 "nbformat_minor": 2
}
