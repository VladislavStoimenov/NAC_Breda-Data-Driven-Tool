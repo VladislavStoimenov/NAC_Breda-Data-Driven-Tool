{
 "cells": [
  {
   "cell_type": "markdown",
   "metadata": {},
   "source": [
    "<span style='font-size: larger;'>**TASK 1 EXAMPLE 1**"
   ]
  },
  {
   "cell_type": "code",
   "execution_count": 5,
   "metadata": {},
   "outputs": [
    {
     "name": "stdout",
     "output_type": "stream",
     "text": [
      "[[ 9.75]\n",
      " [ 0.25]\n",
      " [-1.5 ]]\n"
     ]
    }
   ],
   "source": [
    "import numpy as np\n",
    "A = np.array([[1, 3, 1],[1, 1, 0],[1,-1,1]])\n",
    "B = np.array([[9], [10], [8]])\n",
    "x = np.linalg.inv(A).dot(B)\n",
    "print(x)\n"
   ]
  },
  {
   "cell_type": "markdown",
   "metadata": {},
   "source": [
    "<span style='font-size: larger;'>**TASK 1 EXAMPLE 2**"
   ]
  },
  {
   "cell_type": "code",
   "execution_count": 8,
   "metadata": {},
   "outputs": [
    {
     "name": "stdout",
     "output_type": "stream",
     "text": [
      "[[ 6.8372093 ]\n",
      " [-1.72093023]\n",
      " [ 2.1627907 ]\n",
      " [-0.72093023]]\n"
     ]
    }
   ],
   "source": [
    "import numpy as np\n",
    "\n",
    "# Input features\n",
    "A = np.array([[5, 6, -7, 1], [1, 2, 3, 4], [1, 0, 1, 0], [1, -3, 0, 0]])\n",
    "B = np.array([[8], [7], [9], [12]])\n",
    "X = np.linalg.solve(A,B)\n",
    "print(X)"
   ]
  },
  {
   "cell_type": "markdown",
   "metadata": {},
   "source": [
    "<span style='font-size: larger;'>**TASK 2**"
   ]
  },
  {
   "cell_type": "code",
   "execution_count": 42,
   "metadata": {},
   "outputs": [
    {
     "name": "stdout",
     "output_type": "stream",
     "text": [
      "[3.06827132 1.98467703]\n",
      "[3.06827132 1.98467703]\n",
      "\n",
      "Matrix X:\n",
      "[[1.         1.        ]\n",
      " [1.         1.44444444]\n",
      " [1.         1.88888889]\n",
      " [1.         2.33333333]\n",
      " [1.         2.77777778]\n",
      " [1.         3.22222222]\n",
      " [1.         3.66666667]\n",
      " [1.         4.11111111]\n",
      " [1.         4.55555556]\n",
      " [1.         5.        ]]\n",
      "\n",
      "Matrix y:\n",
      "[[ 5.01874743]\n",
      " [ 5.93374689]\n",
      " [ 6.75744495]\n",
      " [ 7.7332117 ]\n",
      " [ 8.60657734]\n",
      " [ 9.68966348]\n",
      " [10.19807818]\n",
      " [11.15315283]\n",
      " [12.19994942]\n",
      " [12.9324518 ]]\n"
     ]
    }
   ],
   "source": [
    "import numpy as np\n",
    "\n",
    "np.random.seed(1358)\n",
    "\n",
    "n_sample = 10\n",
    "x = np.linspace(1, 5, n_sample)\n",
    "e = 0.1 * np.random.randn(n_sample)\n",
    "\n",
    "#Getting the theta\n",
    "y = 2 * x + 3 + e\n",
    "theta = np.linalg.inv(X.T.dot(X)).dot(X.T).dot(y)\n",
    "print(theta)\n",
    "\n",
    "#np.ones, np.concatenate, np.expand_dims - DEFINING THE MATRICES\n",
    "X_ones = np.ones((len(x), 1))\n",
    "X_concatenate = np.concatenate((X_ones, np.expand_dims(x, axis=1)), axis = 1)\n",
    "y_matrix = np.expand_dims(2*x+3+e, axis=1)\n",
    "\n",
    "#PRINTING THE MATRICES\n",
    "print(\"\\nMatrix X:\")\n",
    "print(X_concatenate)\n",
    "print(\"\\nMatrix y:\")\n",
    "print(y_matrix)"
   ]
  },
  {
   "cell_type": "markdown",
   "metadata": {},
   "source": [
    "<span style='font-size: larger;'>**TASK 3**"
   ]
  },
  {
   "cell_type": "code",
   "execution_count": 54,
   "metadata": {},
   "outputs": [
    {
     "name": "stdout",
     "output_type": "stream",
     "text": [
      "[3.08069949 1.99527895 6.9987292 ]\n"
     ]
    }
   ],
   "source": [
    "import numpy as np\n",
    "\n",
    "np.random.seed(1358)\n",
    "\n",
    "n_sample = 30\n",
    "x = np.linspace(1, 10, n_sample)\n",
    "e = 0.2 * np.random.randn(n_sample)\n",
    "x2 = x*x\n",
    "\n",
    "#Creating the design matrix X with x and x^2\n",
    "X = np.vstack((np.ones_like(x), x, x2)).T\n",
    "y = 3 + 2 * x + 7 * x**2 + e\n",
    "\n",
    "#Getting the theta\n",
    "theta = np.linalg.inv(X.T.dot(X)).dot(X.T).dot(y)\n",
    "\n",
    "#Printing the theta\n",
    "print(theta)"
   ]
  }
 ],
 "metadata": {
  "kernelspec": {
   "display_name": "block_b",
   "language": "python",
   "name": "python3"
  },
  "language_info": {
   "codemirror_mode": {
    "name": "ipython",
    "version": 3
   },
   "file_extension": ".py",
   "mimetype": "text/x-python",
   "name": "python",
   "nbconvert_exporter": "python",
   "pygments_lexer": "ipython3",
   "version": "3.11.5"
  }
 },
 "nbformat": 4,
 "nbformat_minor": 2
}
